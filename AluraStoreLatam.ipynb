{
  "cells": [
    {
      "cell_type": "markdown",
      "metadata": {
        "id": "RhEdWd9YUR6H"
      },
      "source": [
        "# 1. Extraccion de datos\n",
        "\n"
      ]
    },
    {
      "cell_type": "code",
      "execution_count": 7,
      "metadata": {
        "colab": {
          "base_uri": "https://localhost:8080/",
          "height": 206
        },
        "id": "T3EvaeQ_INIL",
        "outputId": "e9c5efe1-82a3-43ab-e8d7-6d01e4fa3514"
      },
      "outputs": [],
      "source": [
        "import pandas as pd\n",
        "from IPython.display import display\n",
        "\n",
        "\n",
        "url = \"https://raw.githubusercontent.com/alura-es-cursos/challenge1-data-science-latam/refs/heads/main/base-de-datos-challenge1-latam/tienda_1%20.csv\"\n",
        "url2 = \"https://raw.githubusercontent.com/alura-es-cursos/challenge1-data-science-latam/refs/heads/main/base-de-datos-challenge1-latam/tienda_2.csv\"\n",
        "url3 = \"https://raw.githubusercontent.com/alura-es-cursos/challenge1-data-science-latam/refs/heads/main/base-de-datos-challenge1-latam/tienda_3.csv\"\n",
        "url4 = \"https://raw.githubusercontent.com/alura-es-cursos/challenge1-data-science-latam/refs/heads/main/base-de-datos-challenge1-latam/tienda_4.csv\"\n",
        "\n",
        "df1 = pd.read_csv(url)\n",
        "df2 = pd.read_csv(url2)\n",
        "df3 = pd.read_csv(url3)\n",
        "df4 = pd.read_csv(url4)\n",
        "\n",
        "tiendas = [(1,df1),(2,df2),(3,df3),(4,df4)]\n",
        "pd.set_option('display.float_format', '{:,.2f}'.format)  # Mostrar números sin notación científica"
      ]
    },
    {
      "cell_type": "markdown",
      "metadata": {
        "id": "X62IW3KFUIYm"
      },
      "source": [
        "#1. Análisis de facturación\n",
        "\n"
      ]
    },
    {
      "cell_type": "code",
      "execution_count": 8,
      "metadata": {
        "id": "xykobSftV64I"
      },
      "outputs": [
        {
          "data": {
            "text/html": [
              "<div>\n",
              "<style scoped>\n",
              "    .dataframe tbody tr th:only-of-type {\n",
              "        vertical-align: middle;\n",
              "    }\n",
              "\n",
              "    .dataframe tbody tr th {\n",
              "        vertical-align: top;\n",
              "    }\n",
              "\n",
              "    .dataframe thead th {\n",
              "        text-align: right;\n",
              "    }\n",
              "</style>\n",
              "<table border=\"1\" class=\"dataframe\">\n",
              "  <thead>\n",
              "    <tr style=\"text-align: right;\">\n",
              "      <th></th>\n",
              "      <th>tienda:</th>\n",
              "      <th>Ingreso total($)</th>\n",
              "    </tr>\n",
              "  </thead>\n",
              "  <tbody>\n",
              "    <tr>\n",
              "      <th>0</th>\n",
              "      <td>1</td>\n",
              "      <td>1,150,880,400.00</td>\n",
              "    </tr>\n",
              "    <tr>\n",
              "      <th>1</th>\n",
              "      <td>2</td>\n",
              "      <td>1,116,343,500.00</td>\n",
              "    </tr>\n",
              "    <tr>\n",
              "      <th>2</th>\n",
              "      <td>3</td>\n",
              "      <td>1,098,019,600.00</td>\n",
              "    </tr>\n",
              "    <tr>\n",
              "      <th>3</th>\n",
              "      <td>4</td>\n",
              "      <td>1,038,375,700.00</td>\n",
              "    </tr>\n",
              "  </tbody>\n",
              "</table>\n",
              "</div>"
            ],
            "text/plain": [
              "   tienda:  Ingreso total($)\n",
              "0        1  1,150,880,400.00\n",
              "1        2  1,116,343,500.00\n",
              "2        3  1,098,019,600.00\n",
              "3        4  1,038,375,700.00"
            ]
          },
          "metadata": {},
          "output_type": "display_data"
        }
      ],
      "source": [
        "from operator import index\n",
        "\n",
        "\n",
        "def ingresos_tienda(lista):\n",
        "    ingresos = []\n",
        "    \n",
        "    for i in lista:\n",
        "        ingreso = i[1]['Precio'].sum()\n",
        "        ingresos.append({'tienda:':i[0],'Ingreso total($)':round(ingreso,2)})\n",
        "    \n",
        "    df_ingresos = pd.DataFrame(ingresos)\n",
        "    display(df_ingresos)\n",
        "\n",
        "ingresos_tienda(tiendas)"
      ]
    },
    {
      "cell_type": "markdown",
      "metadata": {
        "id": "2V_vcAPzWZmR"
      },
      "source": [
        "# 2. Ventas por categoría"
      ]
    },
    {
      "cell_type": "code",
      "execution_count": 9,
      "metadata": {
        "id": "A34YupIuYhfF"
      },
      "outputs": [],
      "source": [
        "def vta_categoria(lista):\n",
        "    for i in lista:\n",
        "        print(f'-----------------------------------Tienda {i[0]}------------------------------------------')\n",
        "        df = i[1].groupby('Categoría del Producto')['Producto'].count().reset_index(name='Cantidad')\n",
        "        venta_por_categoria = df.sort_values(by=\"Cantidad\", ascending=False).reset_index(drop=True)\n",
        "        print(venta_por_categoria)\n",
        "        print(f'--------------------------------Total de ventas--------------------------------------')\n",
        "        total = venta_por_categoria['Cantidad'].sum()\n",
        "        print('Ventas totales:', total)\n",
        "    return ''\n"
      ]
    },
    {
      "cell_type": "code",
      "execution_count": 10,
      "metadata": {
        "id": "yZR6cOjXYSk1"
      },
      "outputs": [
        {
          "name": "stdout",
          "output_type": "stream",
          "text": [
            "-----------------------------------Tienda 1------------------------------------------\n",
            "    Categoría del Producto  Cantidad\n",
            "0                  Muebles       465\n",
            "1             Electrónicos       448\n",
            "2                 Juguetes       324\n",
            "3        Electrodomésticos       312\n",
            "4     Deportes y diversión       284\n",
            "5   Instrumentos musicales       182\n",
            "6                   Libros       173\n",
            "7  Artículos para el hogar       171\n",
            "--------------------------------Total de ventas--------------------------------------\n",
            "Ventas totales: 2359\n",
            "-----------------------------------Tienda 2------------------------------------------\n",
            "    Categoría del Producto  Cantidad\n",
            "0                  Muebles       442\n",
            "1             Electrónicos       422\n",
            "2                 Juguetes       313\n",
            "3        Electrodomésticos       305\n",
            "4     Deportes y diversión       275\n",
            "5   Instrumentos musicales       224\n",
            "6                   Libros       197\n",
            "7  Artículos para el hogar       181\n",
            "--------------------------------Total de ventas--------------------------------------\n",
            "Ventas totales: 2359\n",
            "-----------------------------------Tienda 3------------------------------------------\n",
            "    Categoría del Producto  Cantidad\n",
            "0                  Muebles       499\n",
            "1             Electrónicos       451\n",
            "2                 Juguetes       315\n",
            "3        Electrodomésticos       278\n",
            "4     Deportes y diversión       277\n",
            "5                   Libros       185\n",
            "6  Artículos para el hogar       177\n",
            "7   Instrumentos musicales       177\n",
            "--------------------------------Total de ventas--------------------------------------\n",
            "Ventas totales: 2359\n",
            "-----------------------------------Tienda 4------------------------------------------\n",
            "    Categoría del Producto  Cantidad\n",
            "0                  Muebles       480\n",
            "1             Electrónicos       451\n",
            "2                 Juguetes       338\n",
            "3     Deportes y diversión       277\n",
            "4        Electrodomésticos       254\n",
            "5  Artículos para el hogar       201\n",
            "6                   Libros       187\n",
            "7   Instrumentos musicales       170\n",
            "--------------------------------Total de ventas--------------------------------------\n",
            "Ventas totales: 2358\n",
            "\n"
          ]
        }
      ],
      "source": [
        "print(vta_categoria(tiendas))"
      ]
    },
    {
      "cell_type": "markdown",
      "metadata": {
        "id": "Rq6tU_xSY3jk"
      },
      "source": [
        "# 3. Calificación promedio de la tienda\n"
      ]
    },
    {
      "cell_type": "code",
      "execution_count": 63,
      "metadata": {},
      "outputs": [],
      "source": [
        "def calificacion(lista):\n",
        "    for tienda in lista:\n",
        "        tienda_id, df = tienda # Desempaquetamos cada tupla (tienda_id, df)\n",
        "        promedio =float(round(df['Calificación'].mean(),2))\n",
        "        print(f'Promedio de Calificación de la tienda{tienda_id}: {promedio}')\n",
        "  \n"
      ]
    },
    {
      "cell_type": "code",
      "execution_count": 64,
      "metadata": {},
      "outputs": [
        {
          "name": "stdout",
          "output_type": "stream",
          "text": [
            "Promedio de Calificación de la tienda1: 3.98\n",
            "Promedio de Calificación de la tienda2: 4.04\n",
            "Promedio de Calificación de la tienda3: 4.05\n",
            "Promedio de Calificación de la tienda4: 4.0\n"
          ]
        }
      ],
      "source": [
        "calificacion(tiendas)\n"
      ]
    },
    {
      "cell_type": "markdown",
      "metadata": {
        "id": "DmNp1KPBZCm-"
      },
      "source": [
        "# 4. Productos más y menos vendidos"
      ]
    },
    {
      "cell_type": "code",
      "execution_count": null,
      "metadata": {
        "id": "qoyjqijQZHfF"
      },
      "outputs": [],
      "source": []
    },
    {
      "cell_type": "code",
      "execution_count": null,
      "metadata": {
        "id": "0Sw3sd4IZIGW"
      },
      "outputs": [],
      "source": []
    },
    {
      "cell_type": "markdown",
      "metadata": {
        "id": "Fl0cGi3bZKqU"
      },
      "source": [
        "# 5. Envío promedio por tienda"
      ]
    },
    {
      "cell_type": "code",
      "execution_count": null,
      "metadata": {
        "id": "S2JeaCykZNy9"
      },
      "outputs": [],
      "source": []
    },
    {
      "cell_type": "code",
      "execution_count": null,
      "metadata": {
        "id": "0tSdCie9ZQlt"
      },
      "outputs": [],
      "source": []
    }
  ],
  "metadata": {
    "colab": {
      "provenance": []
    },
    "kernelspec": {
      "display_name": "bot",
      "language": "python",
      "name": "python3"
    },
    "language_info": {
      "codemirror_mode": {
        "name": "ipython",
        "version": 3
      },
      "file_extension": ".py",
      "mimetype": "text/x-python",
      "name": "python",
      "nbconvert_exporter": "python",
      "pygments_lexer": "ipython3",
      "version": "3.12.9"
    }
  },
  "nbformat": 4,
  "nbformat_minor": 0
}
